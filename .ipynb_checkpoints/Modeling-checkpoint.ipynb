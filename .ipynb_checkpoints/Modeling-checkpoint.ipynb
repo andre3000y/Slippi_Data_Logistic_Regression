{
 "cells": [
  {
   "cell_type": "markdown",
   "id": "00a193da-a727-436a-9716-f1421a9d84f4",
   "metadata": {},
   "source": [
    "Importing Modules"
   ]
  },
  {
   "cell_type": "code",
   "execution_count": 1,
   "id": "0513c39b-1d18-42bb-8ca7-5537e3c8eef3",
   "metadata": {},
   "outputs": [],
   "source": [
    "#importing/handling and cleaning data\n",
    "import json\n",
    "import pandas as pd\n",
    "import numpy as np\n",
    "\n",
    "#preparing data for modeling\n",
    "from sklearn.preprocessing import PolynomialFeatures, MinMaxScaler\n",
    "from sklearn.model_selection import KFold\n",
    "\n",
    "#modeling data\n",
    "from sklearn.linear_model import LogisticRegression\n",
    "\n",
    "#evaluating model\n",
    "from sklearn.metrics import accuracy_score\n",
    "from sklearn.metrics import roc_curve, auc\n",
    "\n",
    "#plots\n",
    "import matplotlib.pyplot as plt"
   ]
  },
  {
   "cell_type": "markdown",
   "id": "514465cb-e287-4f09-ac1c-b0e4944d2234",
   "metadata": {},
   "source": [
    "Data preparation"
   ]
  },
  {
   "cell_type": "code",
   "execution_count": 2,
   "id": "51bc03de-b3f5-4719-9b2a-e6c36abb1ff0",
   "metadata": {},
   "outputs": [],
   "source": [
    "stocks_ava = 3 #number of stocks to take data from\n",
    "game_num = 220 #number of games to take data from"
   ]
  },
  {
   "cell_type": "markdown",
   "id": "d04201b4-2ac2-4722-9c1f-f38c495e6df3",
   "metadata": {},
   "source": [
    "Importing games from `jsons` folder"
   ]
  },
  {
   "cell_type": "code",
   "execution_count": 3,
   "id": "2f3a4bf8-8db8-4a9b-9637-1374c9a9ccb1",
   "metadata": {},
   "outputs": [],
   "source": [
    "games = []\n",
    "for i in range(1, game_num+1):\n",
    "    with open('jsons/'+str(i)+'.txt', 'r') as f:\n",
    "        text = f.read()\n",
    "    games.append(json.loads(text))"
   ]
  },
  {
   "cell_type": "markdown",
   "id": "701d14f3-5b79-402a-9054-5442e19981c6",
   "metadata": {},
   "source": [
    "Peek at what a `game` object looks like. We will only be using the data in the `stocks` and `combos` keys."
   ]
  },
  {
   "cell_type": "code",
   "execution_count": 4,
   "id": "1c3cbb1d-3bc5-4be4-b590-7ae416843614",
   "metadata": {},
   "outputs": [
    {
     "data": {
      "text/plain": [
       "[{'playerIndex': 0,\n",
       "  'startFrame': -123,\n",
       "  'endFrame': 3458,\n",
       "  'startPercent': 0,\n",
       "  'endPercent': 84.41999816894531,\n",
       "  'currentPercent': 84.41999816894531,\n",
       "  'count': 4,\n",
       "  'deathAnimation': 0},\n",
       " {'playerIndex': 1,\n",
       "  'startFrame': -123,\n",
       "  'endFrame': 1497,\n",
       "  'startPercent': 0,\n",
       "  'endPercent': 75.94999694824219,\n",
       "  'currentPercent': 75.94999694824219,\n",
       "  'count': 4,\n",
       "  'deathAnimation': 2},\n",
       " {'playerIndex': 1,\n",
       "  'startFrame': 1557,\n",
       "  'endFrame': 2601,\n",
       "  'startPercent': 0,\n",
       "  'endPercent': 55.03999710083008,\n",
       "  'currentPercent': 55.03999710083008,\n",
       "  'count': 3,\n",
       "  'deathAnimation': 0},\n",
       " {'playerIndex': 1,\n",
       "  'startFrame': 2661,\n",
       "  'endFrame': 4784,\n",
       "  'startPercent': 0,\n",
       "  'endPercent': 85.54000091552734,\n",
       "  'currentPercent': 85.54000091552734,\n",
       "  'count': 2,\n",
       "  'deathAnimation': 0},\n",
       " {'playerIndex': 0,\n",
       "  'startFrame': 3518,\n",
       "  'endFrame': None,\n",
       "  'startPercent': 0,\n",
       "  'endPercent': None,\n",
       "  'currentPercent': 44.599998474121094,\n",
       "  'count': 3,\n",
       "  'deathAnimation': None},\n",
       " {'playerIndex': 1,\n",
       "  'startFrame': 4844,\n",
       "  'endFrame': 6200,\n",
       "  'startPercent': 0,\n",
       "  'endPercent': 66.13999938964844,\n",
       "  'currentPercent': 66.13999938964844,\n",
       "  'count': 1,\n",
       "  'deathAnimation': 0}]"
      ]
     },
     "execution_count": 4,
     "metadata": {},
     "output_type": "execute_result"
    }
   ],
   "source": [
    "games[0]['stocks']"
   ]
  },
  {
   "cell_type": "code",
   "execution_count": 5,
   "id": "da174861-1afb-4853-9c42-da6280bc5207",
   "metadata": {},
   "outputs": [
    {
     "data": {
      "text/plain": [
       "[{'playerIndex': 0,\n",
       "  'startFrame': 67,\n",
       "  'endFrame': 134,\n",
       "  'startPercent': 0,\n",
       "  'currentPercent': 12,\n",
       "  'endPercent': 12,\n",
       "  'moves': [{'playerIndex': 1,\n",
       "    'frame': 67,\n",
       "    'moveId': 17,\n",
       "    'hitCount': 1,\n",
       "    'damage': 12}],\n",
       "  'didKill': False,\n",
       "  'lastHitBy': 1},\n",
       " {'playerIndex': 0,\n",
       "  'startFrame': 296,\n",
       "  'endFrame': 366,\n",
       "  'startPercent': 12,\n",
       "  'currentPercent': 22.920000076293945,\n",
       "  'endPercent': 22.920000076293945,\n",
       "  'moves': [{'playerIndex': 1,\n",
       "    'frame': 296,\n",
       "    'moveId': 17,\n",
       "    'hitCount': 1,\n",
       "    'damage': 10.920000076293945}],\n",
       "  'didKill': False,\n",
       "  'lastHitBy': 1},\n",
       " {'playerIndex': 1,\n",
       "  'startFrame': 383,\n",
       "  'endFrame': 532,\n",
       "  'startPercent': 0,\n",
       "  'currentPercent': 25,\n",
       "  'endPercent': 25,\n",
       "  'moves': [{'playerIndex': 0,\n",
       "    'frame': 402,\n",
       "    'moveId': 56,\n",
       "    'hitCount': 1,\n",
       "    'damage': 7},\n",
       "   {'playerIndex': 0,\n",
       "    'frame': 447,\n",
       "    'moveId': 14,\n",
       "    'hitCount': 1,\n",
       "    'damage': 18}],\n",
       "  'didKill': False,\n",
       "  'lastHitBy': 0}]"
      ]
     },
     "execution_count": 5,
     "metadata": {},
     "output_type": "execute_result"
    }
   ],
   "source": [
    "games[0]['combos'][:3]"
   ]
  },
  {
   "cell_type": "markdown",
   "id": "d8f146ff-4f66-4ea0-90a8-4dcdca494f7a",
   "metadata": {},
   "source": [
    "Removing any games with fewer stocks than what is being viewed"
   ]
  },
  {
   "cell_type": "code",
   "execution_count": 6,
   "id": "29e22768-c479-47eb-ab79-7dd35cfd7b95",
   "metadata": {},
   "outputs": [
    {
     "data": {
      "text/plain": [
       "(220, 212)"
      ]
     },
     "execution_count": 6,
     "metadata": {},
     "output_type": "execute_result"
    }
   ],
   "source": [
    "games_filtered = [game for game in games if len(game['stocks']) > stocks_ava]\n",
    "len(games), len(games_filtered)"
   ]
  },
  {
   "cell_type": "markdown",
   "id": "fe238b61-317d-4d7e-b533-8494a0893f3b",
   "metadata": {},
   "source": [
    "Creating a function to get the `endFrame` value from every stock. This is needed to sort stocks in the order that they were lost"
   ]
  },
  {
   "cell_type": "code",
   "execution_count": 7,
   "id": "9f0ef330-34da-486a-beb8-dcca735fd85b",
   "metadata": {},
   "outputs": [],
   "source": [
    "def get_end(stock):\n",
    "    if stock['endFrame'] == None:\n",
    "        return 3*10**4 #if the stock was never lost, return an impossibly large number\n",
    "    else:\n",
    "        return stock['endFrame']"
   ]
  },
  {
   "cell_type": "markdown",
   "id": "07cc4f5b-add7-47f1-a0e8-42d68adab372",
   "metadata": {},
   "source": [
    "Sorting the `stocks` list for each game"
   ]
  },
  {
   "cell_type": "code",
   "execution_count": 8,
   "id": "e72e73b8-ecd8-47e7-ac27-52929e2b650a",
   "metadata": {},
   "outputs": [],
   "source": [
    "for game in games_filtered:\n",
    "    game['stocks'] = sorted(game['stocks'], key = get_end)"
   ]
  },
  {
   "cell_type": "markdown",
   "id": "334263e5-69af-4f88-8708-40fdf0f3dd2e",
   "metadata": {},
   "source": [
    "Creating a function that returns `True` if a game was not ended early. This can be easily checked by checking if at least one player lost all 4 stocks."
   ]
  },
  {
   "cell_type": "code",
   "execution_count": 9,
   "id": "8f31d30d-3e01-4c36-8d11-feca757dbacd",
   "metadata": {},
   "outputs": [],
   "source": [
    "def no_lras(game):\n",
    "    stocks = game['stocks']\n",
    "    deaths_0 = 0\n",
    "    deaths_1 = 0\n",
    "    for stock in stocks:\n",
    "        if stock['playerIndex'] == 0 and stock['deathAnimation'] != None:\n",
    "            deaths_0 += 1\n",
    "        if stock['playerIndex'] == 1 and stock['deathAnimation'] != None:\n",
    "            deaths_1 += 1\n",
    "    \n",
    "    if (deaths_0 == 4) or (deaths_1 == 4):\n",
    "        return True\n",
    "    else:\n",
    "        return False"
   ]
  },
  {
   "cell_type": "markdown",
   "id": "25e50c5d-cb7e-45b4-8250-c5214cad68ca",
   "metadata": {},
   "source": [
    "Filtering out games that ended early"
   ]
  },
  {
   "cell_type": "code",
   "execution_count": 10,
   "id": "9d05a8e1-8ced-422a-aaf5-e5ef1b60e1c9",
   "metadata": {},
   "outputs": [
    {
     "data": {
      "text/plain": [
       "204"
      ]
     },
     "execution_count": 10,
     "metadata": {},
     "output_type": "execute_result"
    }
   ],
   "source": [
    "games_finished = []\n",
    "for game in games_filtered:\n",
    "    if no_lras(game):\n",
    "        games_finished.append(game)\n",
    "len(games_finished)"
   ]
  },
  {
   "cell_type": "markdown",
   "id": "f666a240-b21d-414d-9913-4075a0c4b49f",
   "metadata": {},
   "source": [
    "Creating a function to find the winner of the game. This is simply the player that did not lose all four stocks"
   ]
  },
  {
   "cell_type": "code",
   "execution_count": 11,
   "id": "bd7eea2a-1501-48dc-88e6-cb8c68f417d3",
   "metadata": {},
   "outputs": [],
   "source": [
    "def get_winner(game):\n",
    "    stocks = game['stocks']\n",
    "    deaths_0 = 0\n",
    "    deaths_1 = 0\n",
    "    for stock in stocks:\n",
    "        if stock['playerIndex'] == 0 and stock['deathAnimation'] != None:\n",
    "            deaths_0 += 1\n",
    "        if stock['playerIndex'] == 1 and stock['deathAnimation'] != None:\n",
    "            deaths_1 += 1\n",
    "    \n",
    "    if deaths_0 == 4:\n",
    "        return 1\n",
    "    else:\n",
    "        return 0"
   ]
  },
  {
   "cell_type": "markdown",
   "id": "3382207d-a1af-433e-a9ec-af7d6cb96a99",
   "metadata": {},
   "source": [
    "Making a list of winners"
   ]
  },
  {
   "cell_type": "code",
   "execution_count": 12,
   "id": "6e3c8a31-2b0b-433d-a21e-7f9364936ddf",
   "metadata": {},
   "outputs": [],
   "source": [
    "winners = [get_winner(game) for game in games_finished]"
   ]
  },
  {
   "cell_type": "markdown",
   "id": "27ffd93c-90ea-485a-be3b-048564911bb8",
   "metadata": {},
   "source": [
    "Checking when the last stock to be considered as data was taken. For example, if you are only looking at data for the first three stocks, this will record the `endFrame` of the third stock. `ava_durations` is the \"durations of the available stocks\" (available meaning used as predictive data)."
   ]
  },
  {
   "cell_type": "code",
   "execution_count": 13,
   "id": "5fccfd43-0fe7-4c55-87be-73eec384dd27",
   "metadata": {},
   "outputs": [],
   "source": [
    "ava_durations = []\n",
    "for game in games_finished:\n",
    "    ava_durations.append(get_end(game['stocks'][stocks_ava-1]))"
   ]
  },
  {
   "cell_type": "markdown",
   "id": "fc8a33c3-f34c-4048-b4e3-6bc63854f729",
   "metadata": {},
   "source": [
    "This removes any stocks beyond what is to be considered for the data."
   ]
  },
  {
   "cell_type": "code",
   "execution_count": 14,
   "id": "cb6ee6e6-0ffd-4424-8e89-9bf3ea906751",
   "metadata": {},
   "outputs": [],
   "source": [
    "def remove_extra_stocks(game):\n",
    "    game['stocks'] = game['stocks'][:stocks_ava]"
   ]
  },
  {
   "cell_type": "code",
   "execution_count": 15,
   "id": "7e8a6809-263a-4d71-8d83-3ed42b6efa1d",
   "metadata": {},
   "outputs": [],
   "source": [
    "for game in games_finished:\n",
    "    remove_extra_stocks(game)"
   ]
  },
  {
   "cell_type": "markdown",
   "id": "ca2e7bb0-92dc-41db-abb3-a0e2cf1b5664",
   "metadata": {},
   "source": [
    "Similarly, this goes into the `combo` list for each game and removes any combos that end after the cutoff (after the 3rd stock is taken if you are only using the first three stocks as data, for example)."
   ]
  },
  {
   "cell_type": "code",
   "execution_count": 16,
   "id": "64b12104-dd50-41d1-894a-46ace7bca942",
   "metadata": {},
   "outputs": [],
   "source": [
    "def remove_extra_combos(game, ind):\n",
    "    cutoff = ava_durations[ind]\n",
    "    new_combos = []\n",
    "    for combo in game['combos']:\n",
    "        if combo['endFrame'] < cutoff:\n",
    "            new_combos.append(combo)\n",
    "        else:\n",
    "            break\n",
    "    game['combos'] = new_combos"
   ]
  },
  {
   "cell_type": "code",
   "execution_count": 17,
   "id": "c25e5afd-aff7-4841-9d08-373aa5cbb8b2",
   "metadata": {},
   "outputs": [],
   "source": [
    "for ind, game in enumerate(games_finished):\n",
    "    remove_extra_combos(game, ind)"
   ]
  },
  {
   "cell_type": "markdown",
   "id": "6fb23d05-7980-4d3a-b0fe-f0fbf1e0e7ff",
   "metadata": {},
   "source": [
    "This simply checks that every combo remaining occurs before the last stock to be considered is taken."
   ]
  },
  {
   "cell_type": "code",
   "execution_count": 18,
   "id": "4141ea54-ad96-4e11-b2a6-55f88537dc41",
   "metadata": {},
   "outputs": [
    {
     "data": {
      "text/plain": [
       "True"
      ]
     },
     "execution_count": 18,
     "metadata": {},
     "output_type": "execute_result"
    }
   ],
   "source": [
    "(np.array([game['combos'][-1]['endFrame'] for game in games_finished]) < np.array(ava_durations)).all()"
   ]
  },
  {
   "cell_type": "markdown",
   "id": "a25c1a08-afba-4a5a-93df-18401ca27558",
   "metadata": {},
   "source": [
    "This counts how many times player 0 died in the first x stocks, where x is the number of stocks being used as predictive data."
   ]
  },
  {
   "cell_type": "code",
   "execution_count": 19,
   "id": "f9da87ea-3169-4096-b7db-9f0efe88d7ea",
   "metadata": {},
   "outputs": [],
   "source": [
    "p_0_deaths = []\n",
    "for game in games_finished:\n",
    "    p_0_death = 0\n",
    "    for stock in game['stocks']:\n",
    "        if stock['playerIndex'] == 0:\n",
    "            p_0_death += 1\n",
    "    p_0_deaths.append(p_0_death)"
   ]
  },
  {
   "cell_type": "markdown",
   "id": "eb0bd2dc-2dd9-4d51-9cdc-299878b5fe39",
   "metadata": {},
   "source": [
    "This counts the combos for each player in those first few stocks. A `total_combos` list is also made in order to validate the other two lists."
   ]
  },
  {
   "cell_type": "code",
   "execution_count": 20,
   "id": "2269a5ca-efbb-44f5-a1bc-2d76be4d2c53",
   "metadata": {},
   "outputs": [],
   "source": [
    "p_0_combos = []\n",
    "for game in games_finished:\n",
    "    p_0_combo = 0\n",
    "    for combo in game['combos']:\n",
    "        if combo['playerIndex'] == 1:\n",
    "            p_0_combo += 1\n",
    "    p_0_combos.append(p_0_combo)\n",
    "\n",
    "p_1_combos = []\n",
    "for game in games_finished:\n",
    "    p_1_combo = 0\n",
    "    for combo in game['combos']:\n",
    "        if combo['playerIndex'] == 0:\n",
    "            p_1_combo += 1\n",
    "    p_1_combos.append(p_1_combo)\n",
    "\n",
    "total_combos = []\n",
    "for game in games_finished:\n",
    "    total_combos.append(len(game['combos']))"
   ]
  },
  {
   "cell_type": "markdown",
   "id": "10dd8d8c-5313-47b6-a584-f32fc4610843",
   "metadata": {},
   "source": [
    "Validating that values in `p_0_combos` + the corresponding values in `p_1_combos` adds up to `total_combos` for every game."
   ]
  },
  {
   "cell_type": "code",
   "execution_count": 21,
   "id": "7ea9c250-b169-41a1-9a5b-72131377ef54",
   "metadata": {},
   "outputs": [
    {
     "data": {
      "text/plain": [
       "True"
      ]
     },
     "execution_count": 21,
     "metadata": {},
     "output_type": "execute_result"
    }
   ],
   "source": [
    "((np.array(p_0_combos) + np.array(p_1_combos)) == np.array(total_combos)).all()"
   ]
  },
  {
   "cell_type": "markdown",
   "id": "2671ca32-25b5-4f4e-bd5b-f15dbe885796",
   "metadata": {},
   "source": [
    "Getting the average and standard deviation of combo lengths. The standard deviation is included because it is thought that it may be predictive. This is because skilled play often consists of a number of short, counterhit combos as well as longer combos."
   ]
  },
  {
   "cell_type": "code",
   "execution_count": 22,
   "id": "ca6203d3-ead2-43d1-9479-b0562aabd005",
   "metadata": {},
   "outputs": [],
   "source": [
    "p_0_avg_combo_len = []\n",
    "p_1_avg_combo_len = []\n",
    "\n",
    "p_0_std_combo_len = []\n",
    "p_1_std_combo_len = []\n",
    "\n",
    "for game in games_finished:\n",
    "    p_0_combo_lens = []\n",
    "    p_1_combo_lens = []\n",
    "    \n",
    "    for combo in game['combos']:\n",
    "        if combo['playerIndex'] == 1:\n",
    "            p_0_combo_lens.append(len(combo['moves']))\n",
    "        else:\n",
    "            p_1_combo_lens.append(len(combo['moves']))\n",
    "            \n",
    "    p_0_combo_lens = np.array(p_0_combo_lens)\n",
    "    p_1_combo_lens = np.array(p_1_combo_lens)\n",
    "    \n",
    "    p_0_avg_combo_len.append(p_0_combo_lens.mean())\n",
    "    p_1_avg_combo_len.append(p_1_combo_lens.mean())\n",
    "    \n",
    "    p_0_std_combo_len.append(p_0_combo_lens.std())\n",
    "    p_1_std_combo_len.append(p_1_combo_lens.std())"
   ]
  },
  {
   "cell_type": "markdown",
   "id": "99f1eb12-d823-4018-9ad1-4be0bf0d2b5b",
   "metadata": {},
   "source": [
    "This does the same but for combo damage."
   ]
  },
  {
   "cell_type": "code",
   "execution_count": 23,
   "id": "249500d7-e5d6-43c3-9c84-eef7fe585f0f",
   "metadata": {},
   "outputs": [],
   "source": [
    "p_0_avg_combo_dmg = []\n",
    "p_1_avg_combo_dmg = []\n",
    "\n",
    "p_0_std_combo_dmg = []\n",
    "p_1_std_combo_dmg = []\n",
    "\n",
    "for game in games_finished:\n",
    "    p_0_combo_dmgs = []\n",
    "    p_1_combo_dmgs = []\n",
    "    \n",
    "    for combo in game['combos']:\n",
    "        if combo['playerIndex'] == 1:\n",
    "            p_0_combo_dmgs.append(combo['endPercent'] - combo['startPercent'])\n",
    "        else:\n",
    "            p_1_combo_dmgs.append(combo['endPercent'] - combo['startPercent'])\n",
    "            \n",
    "    p_0_combo_dmgs = np.array(p_0_combo_dmgs)\n",
    "    p_1_combo_dmgs = np.array(p_1_combo_dmgs)\n",
    "    \n",
    "    p_0_avg_combo_dmg.append(p_0_combo_dmgs.mean())\n",
    "    p_1_avg_combo_dmg.append(p_1_combo_dmgs.mean())\n",
    "    \n",
    "    p_0_std_combo_dmg.append(p_0_combo_dmgs.std())\n",
    "    p_1_std_combo_dmg.append(p_1_combo_dmgs.std())"
   ]
  },
  {
   "cell_type": "markdown",
   "id": "164c0023-5ab8-4e11-8208-bffec03c5779",
   "metadata": {},
   "source": [
    "Now we create a dataframe containing all the features that we just engineered. Here, `winner` is our target/true label. Everything else are our predictors."
   ]
  },
  {
   "cell_type": "code",
   "execution_count": 24,
   "id": "34d64351-033c-4996-8e6a-90b93c5dde98",
   "metadata": {},
   "outputs": [
    {
     "data": {
      "text/html": [
       "<div>\n",
       "<style scoped>\n",
       "    .dataframe tbody tr th:only-of-type {\n",
       "        vertical-align: middle;\n",
       "    }\n",
       "\n",
       "    .dataframe tbody tr th {\n",
       "        vertical-align: top;\n",
       "    }\n",
       "\n",
       "    .dataframe thead th {\n",
       "        text-align: right;\n",
       "    }\n",
       "</style>\n",
       "<table border=\"1\" class=\"dataframe\">\n",
       "  <thead>\n",
       "    <tr style=\"text-align: right;\">\n",
       "      <th></th>\n",
       "      <th>winner</th>\n",
       "      <th>ava_durations</th>\n",
       "      <th>p_0_deaths</th>\n",
       "      <th>p_0_combos</th>\n",
       "      <th>p_1_combos</th>\n",
       "      <th>p_0_avg_combo_len</th>\n",
       "      <th>p_1_avg_combo_len</th>\n",
       "      <th>p_0_std_combo_len</th>\n",
       "      <th>p_1_std_combo_len</th>\n",
       "      <th>p_0_avg_combo_dmg</th>\n",
       "      <th>p_1_avg_combo_dmg</th>\n",
       "      <th>p_0_std_combo_dmg</th>\n",
       "      <th>p_1_std_combo_dmg</th>\n",
       "    </tr>\n",
       "  </thead>\n",
       "  <tbody>\n",
       "    <tr>\n",
       "      <th>0</th>\n",
       "      <td>0</td>\n",
       "      <td>3458</td>\n",
       "      <td>1</td>\n",
       "      <td>10</td>\n",
       "      <td>7</td>\n",
       "      <td>1.800000</td>\n",
       "      <td>1.142857</td>\n",
       "      <td>0.871780</td>\n",
       "      <td>0.349927</td>\n",
       "      <td>16.106999</td>\n",
       "      <td>9.917143</td>\n",
       "      <td>6.506835</td>\n",
       "      <td>4.943271</td>\n",
       "    </tr>\n",
       "    <tr>\n",
       "      <th>1</th>\n",
       "      <td>0</td>\n",
       "      <td>6474</td>\n",
       "      <td>0</td>\n",
       "      <td>19</td>\n",
       "      <td>12</td>\n",
       "      <td>2.000000</td>\n",
       "      <td>1.333333</td>\n",
       "      <td>1.076055</td>\n",
       "      <td>0.849837</td>\n",
       "      <td>19.187895</td>\n",
       "      <td>12.360832</td>\n",
       "      <td>8.931703</td>\n",
       "      <td>8.127083</td>\n",
       "    </tr>\n",
       "    <tr>\n",
       "      <th>2</th>\n",
       "      <td>1</td>\n",
       "      <td>5424</td>\n",
       "      <td>1</td>\n",
       "      <td>13</td>\n",
       "      <td>16</td>\n",
       "      <td>1.307692</td>\n",
       "      <td>1.437500</td>\n",
       "      <td>0.605693</td>\n",
       "      <td>0.704339</td>\n",
       "      <td>13.429230</td>\n",
       "      <td>12.259376</td>\n",
       "      <td>8.032501</td>\n",
       "      <td>5.686452</td>\n",
       "    </tr>\n",
       "    <tr>\n",
       "      <th>3</th>\n",
       "      <td>1</td>\n",
       "      <td>7374</td>\n",
       "      <td>2</td>\n",
       "      <td>18</td>\n",
       "      <td>18</td>\n",
       "      <td>1.388889</td>\n",
       "      <td>1.666667</td>\n",
       "      <td>0.678142</td>\n",
       "      <td>1.105542</td>\n",
       "      <td>12.925321</td>\n",
       "      <td>15.536886</td>\n",
       "      <td>6.716119</td>\n",
       "      <td>12.965085</td>\n",
       "    </tr>\n",
       "    <tr>\n",
       "      <th>4</th>\n",
       "      <td>0</td>\n",
       "      <td>5386</td>\n",
       "      <td>1</td>\n",
       "      <td>11</td>\n",
       "      <td>11</td>\n",
       "      <td>1.272727</td>\n",
       "      <td>1.454545</td>\n",
       "      <td>0.445362</td>\n",
       "      <td>0.655555</td>\n",
       "      <td>11.483636</td>\n",
       "      <td>13.230000</td>\n",
       "      <td>5.093690</td>\n",
       "      <td>7.464212</td>\n",
       "    </tr>\n",
       "    <tr>\n",
       "      <th>...</th>\n",
       "      <td>...</td>\n",
       "      <td>...</td>\n",
       "      <td>...</td>\n",
       "      <td>...</td>\n",
       "      <td>...</td>\n",
       "      <td>...</td>\n",
       "      <td>...</td>\n",
       "      <td>...</td>\n",
       "      <td>...</td>\n",
       "      <td>...</td>\n",
       "      <td>...</td>\n",
       "      <td>...</td>\n",
       "      <td>...</td>\n",
       "    </tr>\n",
       "    <tr>\n",
       "      <th>199</th>\n",
       "      <td>1</td>\n",
       "      <td>5396</td>\n",
       "      <td>2</td>\n",
       "      <td>9</td>\n",
       "      <td>15</td>\n",
       "      <td>1.555556</td>\n",
       "      <td>1.866667</td>\n",
       "      <td>1.257079</td>\n",
       "      <td>1.627541</td>\n",
       "      <td>15.738888</td>\n",
       "      <td>15.659333</td>\n",
       "      <td>13.860048</td>\n",
       "      <td>19.552089</td>\n",
       "    </tr>\n",
       "    <tr>\n",
       "      <th>200</th>\n",
       "      <td>1</td>\n",
       "      <td>3935</td>\n",
       "      <td>2</td>\n",
       "      <td>5</td>\n",
       "      <td>11</td>\n",
       "      <td>2.000000</td>\n",
       "      <td>1.727273</td>\n",
       "      <td>0.894427</td>\n",
       "      <td>0.862439</td>\n",
       "      <td>17.268001</td>\n",
       "      <td>12.309091</td>\n",
       "      <td>10.921214</td>\n",
       "      <td>6.147908</td>\n",
       "    </tr>\n",
       "    <tr>\n",
       "      <th>201</th>\n",
       "      <td>1</td>\n",
       "      <td>5226</td>\n",
       "      <td>1</td>\n",
       "      <td>15</td>\n",
       "      <td>15</td>\n",
       "      <td>1.400000</td>\n",
       "      <td>1.600000</td>\n",
       "      <td>0.611010</td>\n",
       "      <td>1.254326</td>\n",
       "      <td>12.647333</td>\n",
       "      <td>14.821131</td>\n",
       "      <td>7.324694</td>\n",
       "      <td>13.028978</td>\n",
       "    </tr>\n",
       "    <tr>\n",
       "      <th>202</th>\n",
       "      <td>0</td>\n",
       "      <td>6137</td>\n",
       "      <td>1</td>\n",
       "      <td>16</td>\n",
       "      <td>21</td>\n",
       "      <td>1.375000</td>\n",
       "      <td>1.428571</td>\n",
       "      <td>0.856957</td>\n",
       "      <td>0.659829</td>\n",
       "      <td>13.586875</td>\n",
       "      <td>12.564267</td>\n",
       "      <td>8.210579</td>\n",
       "      <td>8.956648</td>\n",
       "    </tr>\n",
       "    <tr>\n",
       "      <th>203</th>\n",
       "      <td>1</td>\n",
       "      <td>3436</td>\n",
       "      <td>2</td>\n",
       "      <td>9</td>\n",
       "      <td>9</td>\n",
       "      <td>1.111111</td>\n",
       "      <td>2.222222</td>\n",
       "      <td>0.314270</td>\n",
       "      <td>1.227262</td>\n",
       "      <td>8.364444</td>\n",
       "      <td>17.675555</td>\n",
       "      <td>3.928262</td>\n",
       "      <td>14.343138</td>\n",
       "    </tr>\n",
       "  </tbody>\n",
       "</table>\n",
       "<p>204 rows × 13 columns</p>\n",
       "</div>"
      ],
      "text/plain": [
       "     winner  ava_durations  p_0_deaths  p_0_combos  p_1_combos  \\\n",
       "0         0           3458           1          10           7   \n",
       "1         0           6474           0          19          12   \n",
       "2         1           5424           1          13          16   \n",
       "3         1           7374           2          18          18   \n",
       "4         0           5386           1          11          11   \n",
       "..      ...            ...         ...         ...         ...   \n",
       "199       1           5396           2           9          15   \n",
       "200       1           3935           2           5          11   \n",
       "201       1           5226           1          15          15   \n",
       "202       0           6137           1          16          21   \n",
       "203       1           3436           2           9           9   \n",
       "\n",
       "     p_0_avg_combo_len  p_1_avg_combo_len  p_0_std_combo_len  \\\n",
       "0             1.800000           1.142857           0.871780   \n",
       "1             2.000000           1.333333           1.076055   \n",
       "2             1.307692           1.437500           0.605693   \n",
       "3             1.388889           1.666667           0.678142   \n",
       "4             1.272727           1.454545           0.445362   \n",
       "..                 ...                ...                ...   \n",
       "199           1.555556           1.866667           1.257079   \n",
       "200           2.000000           1.727273           0.894427   \n",
       "201           1.400000           1.600000           0.611010   \n",
       "202           1.375000           1.428571           0.856957   \n",
       "203           1.111111           2.222222           0.314270   \n",
       "\n",
       "     p_1_std_combo_len  p_0_avg_combo_dmg  p_1_avg_combo_dmg  \\\n",
       "0             0.349927          16.106999           9.917143   \n",
       "1             0.849837          19.187895          12.360832   \n",
       "2             0.704339          13.429230          12.259376   \n",
       "3             1.105542          12.925321          15.536886   \n",
       "4             0.655555          11.483636          13.230000   \n",
       "..                 ...                ...                ...   \n",
       "199           1.627541          15.738888          15.659333   \n",
       "200           0.862439          17.268001          12.309091   \n",
       "201           1.254326          12.647333          14.821131   \n",
       "202           0.659829          13.586875          12.564267   \n",
       "203           1.227262           8.364444          17.675555   \n",
       "\n",
       "     p_0_std_combo_dmg  p_1_std_combo_dmg  \n",
       "0             6.506835           4.943271  \n",
       "1             8.931703           8.127083  \n",
       "2             8.032501           5.686452  \n",
       "3             6.716119          12.965085  \n",
       "4             5.093690           7.464212  \n",
       "..                 ...                ...  \n",
       "199          13.860048          19.552089  \n",
       "200          10.921214           6.147908  \n",
       "201           7.324694          13.028978  \n",
       "202           8.210579           8.956648  \n",
       "203           3.928262          14.343138  \n",
       "\n",
       "[204 rows x 13 columns]"
      ]
     },
     "execution_count": 24,
     "metadata": {},
     "output_type": "execute_result"
    }
   ],
   "source": [
    "df = pd.DataFrame()\n",
    "df['winner'] = winners\n",
    "\n",
    "df['ava_durations'] = ava_durations\n",
    "\n",
    "df['p_0_deaths'] = p_0_deaths\n",
    "\n",
    "df['p_0_combos'] = p_0_combos\n",
    "df['p_1_combos'] = p_1_combos\n",
    "\n",
    "df['p_0_avg_combo_len'] = p_0_avg_combo_len\n",
    "df['p_1_avg_combo_len'] = p_1_avg_combo_len\n",
    "\n",
    "df['p_0_std_combo_len'] = p_0_std_combo_len\n",
    "df['p_1_std_combo_len'] = p_1_std_combo_len\n",
    "\n",
    "df['p_0_avg_combo_dmg'] = p_0_avg_combo_dmg\n",
    "df['p_1_avg_combo_dmg'] = p_1_avg_combo_dmg\n",
    "\n",
    "df['p_0_std_combo_dmg'] = p_0_std_combo_dmg\n",
    "df['p_1_std_combo_dmg'] = p_1_std_combo_dmg\n",
    "\n",
    "df"
   ]
  },
  {
   "cell_type": "markdown",
   "id": "ffdc4241-d352-4718-a960-7a7fc1d75e57",
   "metadata": {},
   "source": [
    "Separating data into X (for predictors) and y (for labels). I also split the `p_0_deaths` column into dummy columns, as I feel this may add predictive value."
   ]
  },
  {
   "cell_type": "code",
   "execution_count": 25,
   "id": "a096729c-897a-479c-bb6b-1fc64fa15502",
   "metadata": {},
   "outputs": [],
   "source": [
    "X = df.drop('winner', axis = 1)\n",
    "y = df['winner']\n",
    "\n",
    "X = pd.get_dummies(X, columns = ['p_0_deaths'], prefix = ['p_0_deaths'], drop_first = True)"
   ]
  },
  {
   "cell_type": "markdown",
   "id": "c0e21805-aa1e-4b68-b39a-79e14636cd9b",
   "metadata": {},
   "source": [
    "Creating a function to perform a four-fold cross validation using logistic regression. This splits the data into four folds and then uses this to perform four train-test split, where each split uses 3 of the folds as training data and the last fold as testing data. Each time, the training and testing data are scaled (with a MinMaxScaler from sklearn). Then, a logistic regression with `class_weight` set to `'balanced'` is fit to the training data. From here, it is merely a matter of calculating the accuracy of the predictions (using `accuracy_score` from sklearn) and plotting an ROC curve labeled with the AUC of the ROC curve (using `roc_curve` and `auc` from sklearn)."
   ]
  },
  {
   "cell_type": "code",
   "execution_count": 26,
   "id": "a7c59e61-6218-41a3-901d-7d68104ceba8",
   "metadata": {},
   "outputs": [],
   "source": [
    "def four_fold_logreg(X, y):\n",
    "    folds = KFold(n_splits = 4, shuffle = True) #creating a KFold object\n",
    "    scaler = MinMaxScaler() #creating a scaler\n",
    "    logreg = LogisticRegression(fit_intercept = False, C = 1e16, solver = 'saga', max_iter = 10**4, class_weight = 'balanced') #creating a logistic regression\n",
    "    \n",
    "    #initializing empty arrays to hold the training and testing accuracies for each of 4 splits\n",
    "    train_accuracies = np.empty(4)\n",
    "    test_accuracies = np.empty(4)\n",
    "    \n",
    "    #initializing 4 axes to plot the ROCs\n",
    "    fig, axes = plt.subplots(figsize = (15,10), nrows = 2, ncols = 2)\n",
    "    \n",
    "    #looping through each split\n",
    "    for ind, (train_ind, test_ind) in enumerate(folds.split(X)):\n",
    "        \n",
    "        #creating the training and testing sets for this split\n",
    "        X_train, y_train = X.iloc[train_ind], y.iloc[train_ind]\n",
    "        X_test, y_test = X.iloc[test_ind], y.iloc[test_ind]\n",
    "        \n",
    "        #scaling the data. Note that the scaler is only fit to the training set\n",
    "        X_tr_sc = scaler.fit_transform(X_train)\n",
    "        X_te_sc = scaler.transform(X_test)\n",
    "        \n",
    "        #fitting the logistic regression\n",
    "        logreg.fit(X_tr_sc, y_train)\n",
    "        \n",
    "        #generating predictions on training and testing data\n",
    "        train_preds = logreg.predict(X_tr_sc)\n",
    "        test_preds = logreg.predict(X_te_sc)\n",
    "        \n",
    "        #generating the ROC curve of the testing data\n",
    "        y_score = logreg.decision_function(X_te_sc)\n",
    "        fpr,tpr,thresholds = roc_curve(y_test, y_score)\n",
    "        \n",
    "        #calculating the AUC of the testing data\n",
    "        auc_test = auc(fpr,tpr)\n",
    "        \n",
    "        #selecting the appropriate axis on which to plot the ROC curve\n",
    "        ax = axes.flatten()[ind]\n",
    "        \n",
    "        #Plotting the ROC\n",
    "        ax.plot(fpr,tpr, color = 'red', label = 'ROC')\n",
    "        ax.plot([0,1],[0,1], color = 'blue', linestyle = '-.')\n",
    "        \n",
    "        #Adding labels and title. Title displays the AUC\n",
    "        ax.set_xlabel('False Positive Rate', fontsize = 15, color = 'grey')\n",
    "        ax.set_ylabel('True Positive Rate', fontsize = 15, color = 'grey')\n",
    "        ax.set_title(f'AUC = {round(auc_test, 3)}', fontsize = 20)\n",
    "        \n",
    "        ax.legend()\n",
    "        \n",
    "        #adding accuracy scores to the arrays using the actual labels and predictions\n",
    "        train_accuracies[ind] = accuracy_score(y_train, train_preds)\n",
    "        test_accuracies[ind] = accuracy_score(y_test, test_preds)\n",
    "\n",
    "    fig.tight_layout()\n",
    "    \n",
    "    #printing the average accuracies for training and testing data\n",
    "    print(f'Average Training Accuracy: {train_accuracies.mean()}\\nAverage Testing Accuracy: {test_accuracies.mean()}')"
   ]
  },
  {
   "cell_type": "code",
   "execution_count": 27,
   "id": "80f03198-83d7-467a-9730-6e759d6e0ee5",
   "metadata": {},
   "outputs": [
    {
     "name": "stdout",
     "output_type": "stream",
     "text": [
      "Average Training Accuracy: 0.7679738562091503\n",
      "Average Testing Accuracy: 0.75\n"
     ]
    },
    {
     "data": {
      "image/png": "[encoded data removed]",
      "text/plain": [
       "<Figure size 1080x720 with 4 Axes>"
      ]
     },
     "metadata": {
      "needs_background": "light"
     },
     "output_type": "display_data"
    }
   ],
   "source": [
    "four_fold_logreg(X, y)\n",
    "plt.savefig('Images/AUC_curves.png')"
   ]
  }
 ],
 "metadata": {
  "kernelspec": {
   "display_name": "learn-env",
   "language": "python",
   "name": "learn-env"
  },
  "language_info": {
   "codemirror_mode": {
    "name": "ipython",
    "version": 3
   },
   "file_extension": ".py",
   "mimetype": "text/x-python",
   "name": "python",
   "nbconvert_exporter": "python",
   "pygments_lexer": "ipython3",
   "version": "3.8.5"
  }
 },
 "nbformat": 4,
 "nbformat_minor": 5
}
