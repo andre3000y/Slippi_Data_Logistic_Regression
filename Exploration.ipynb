{
 "cells": [
  {
   "cell_type": "code",
   "execution_count": 2,
   "id": "308313e8-f6c3-4fdf-a5cb-c8195e1ba028",
   "metadata": {},
   "outputs": [],
   "source": [
    "import json"
   ]
  },
  {
   "cell_type": "code",
   "execution_count": 9,
   "id": "c3a82683-7a42-4f00-97b6-4416f8337195",
   "metadata": {},
   "outputs": [],
   "source": [
    "with open('jsons/1.txt', 'r') as f:\n",
    "    text = f.read()"
   ]
  },
  {
   "cell_type": "code",
   "execution_count": 12,
   "id": "90dd16be-aa79-4900-8ee6-f3243360d558",
   "metadata": {},
   "outputs": [
    {
     "data": {
      "text/plain": [
       "dict_keys(['lastFrame', 'playableFrameCount', 'stocks', 'conversions', 'combos', 'actionCounts', 'overall', 'gameComplete'])"
      ]
     },
     "execution_count": 12,
     "metadata": {},
     "output_type": "execute_result"
    }
   ],
   "source": [
    "obj = json.loads(text)\n",
    "obj.keys()"
   ]
  },
  {
   "cell_type": "code",
   "execution_count": 33,
   "id": "576f334c-29d2-4114-8e32-eeb7d8edf967",
   "metadata": {},
   "outputs": [
    {
     "data": {
      "text/plain": [
       "{'playerIndex': 1,\n",
       " 'startFrame': 383,\n",
       " 'endFrame': 532,\n",
       " 'startPercent': 0,\n",
       " 'currentPercent': 25,\n",
       " 'endPercent': 25,\n",
       " 'moves': [{'playerIndex': 0,\n",
       "   'frame': 402,\n",
       "   'moveId': 56,\n",
       "   'hitCount': 1,\n",
       "   'damage': 7},\n",
       "  {'playerIndex': 0, 'frame': 447, 'moveId': 14, 'hitCount': 1, 'damage': 18}],\n",
       " 'didKill': False,\n",
       " 'lastHitBy': 0}"
      ]
     },
     "execution_count": 33,
     "metadata": {},
     "output_type": "execute_result"
    }
   ],
   "source": [
    "obj['combos'][2]"
   ]
  },
  {
   "cell_type": "code",
   "execution_count": 13,
   "id": "18372fc0-095f-4685-a896-d3b730ffbeaf",
   "metadata": {},
   "outputs": [
    {
     "data": {
      "text/plain": [
       "[{'playerIndex': 0,\n",
       "  'startFrame': -123,\n",
       "  'endFrame': 3458,\n",
       "  'startPercent': 0,\n",
       "  'endPercent': 84.41999816894531,\n",
       "  'currentPercent': 84.41999816894531,\n",
       "  'count': 4,\n",
       "  'deathAnimation': 0},\n",
       " {'playerIndex': 1,\n",
       "  'startFrame': -123,\n",
       "  'endFrame': 1497,\n",
       "  'startPercent': 0,\n",
       "  'endPercent': 75.94999694824219,\n",
       "  'currentPercent': 75.94999694824219,\n",
       "  'count': 4,\n",
       "  'deathAnimation': 2},\n",
       " {'playerIndex': 1,\n",
       "  'startFrame': 1557,\n",
       "  'endFrame': 2601,\n",
       "  'startPercent': 0,\n",
       "  'endPercent': 55.03999710083008,\n",
       "  'currentPercent': 55.03999710083008,\n",
       "  'count': 3,\n",
       "  'deathAnimation': 0},\n",
       " {'playerIndex': 1,\n",
       "  'startFrame': 2661,\n",
       "  'endFrame': 4784,\n",
       "  'startPercent': 0,\n",
       "  'endPercent': 85.54000091552734,\n",
       "  'currentPercent': 85.54000091552734,\n",
       "  'count': 2,\n",
       "  'deathAnimation': 0},\n",
       " {'playerIndex': 0,\n",
       "  'startFrame': 3518,\n",
       "  'endFrame': None,\n",
       "  'startPercent': 0,\n",
       "  'endPercent': None,\n",
       "  'currentPercent': 44.599998474121094,\n",
       "  'count': 3,\n",
       "  'deathAnimation': None},\n",
       " {'playerIndex': 1,\n",
       "  'startFrame': 4844,\n",
       "  'endFrame': 6200,\n",
       "  'startPercent': 0,\n",
       "  'endPercent': 66.13999938964844,\n",
       "  'currentPercent': 66.13999938964844,\n",
       "  'count': 1,\n",
       "  'deathAnimation': 0}]"
      ]
     },
     "execution_count": 13,
     "metadata": {},
     "output_type": "execute_result"
    }
   ],
   "source": [
    "obj['stocks']"
   ]
  }
 ],
 "metadata": {
  "kernelspec": {
   "display_name": "learn-env",
   "language": "python",
   "name": "learn-env"
  },
  "language_info": {
   "codemirror_mode": {
    "name": "ipython",
    "version": 3
   },
   "file_extension": ".py",
   "mimetype": "text/x-python",
   "name": "python",
   "nbconvert_exporter": "python",
   "pygments_lexer": "ipython3",
   "version": "3.8.5"
  }
 },
 "nbformat": 4,
 "nbformat_minor": 5
}
